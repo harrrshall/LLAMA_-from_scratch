{
  "nbformat": 4,
  "nbformat_minor": 0,
  "metadata": {
    "colab": {
      "provenance": []
    },
    "kernelspec": {
      "name": "python3",
      "display_name": "Python 3"
    },
    "language_info": {
      "name": "python"
    }
  },
  "cells": [
    {
      "cell_type": "code",
      "execution_count": 24,
      "metadata": {
        "id": "ixcy9Mpg31HB"
      },
      "outputs": [],
      "source": [
        "import torch\n",
        "from torch import nn\n",
        "from torch.nn import functional as F\n",
        "import numpy as np\n",
        "from matplotlib import pyplot as plt\n",
        "import time\n",
        "import pandas as pd\n"
      ]
    },
    {
      "cell_type": "code",
      "source": [
        "lines = open('./input.txt', 'r').read()\n",
        "\n",
        "vocab = sorted(list(set(lines)))\n",
        "itos = {i:ch for i, ch in enumerate(vocab)}\n",
        "stoi = {ch:i for i, ch in enumerate(vocab)}\n",
        "\n",
        "print(lines[:30])"
      ],
      "metadata": {
        "colab": {
          "base_uri": "https://localhost:8080/"
        },
        "id": "xbZeAFdz36gJ",
        "outputId": "c3a88cdc-574a-4cbc-ec9f-c27f0bd93557"
      },
      "execution_count": 25,
      "outputs": [
        {
          "output_type": "stream",
          "name": "stdout",
          "text": [
            "First Citizen:\n",
            "Before we proce\n"
          ]
        }
      ]
    },
    {
      "cell_type": "code",
      "source": [
        "# simple tokenization by characters\n",
        "def encode(s):\n",
        "    return [stoi[ch] for ch in s]\n",
        "\n",
        "def decode(l):\n",
        "    return ''.join([itos[i] for i in l])\n"
      ],
      "metadata": {
        "id": "AcAfsQKW4HEU"
      },
      "execution_count": 26,
      "outputs": []
    },
    {
      "cell_type": "code",
      "source": [
        "MASTER_CONFIG = {\n",
        "    \"vocab_size\": len(vocab),\n",
        "}\n"
      ],
      "metadata": {
        "id": "G70RLIvz4JPi"
      },
      "execution_count": 27,
      "outputs": []
    },
    {
      "cell_type": "code",
      "source": [
        "dataset = torch.tensor(encode(lines), dtype=torch.int8)\n",
        "dataset.shape"
      ],
      "metadata": {
        "colab": {
          "base_uri": "https://localhost:8080/"
        },
        "id": "9RgplhoX4Kbi",
        "outputId": "c4fc6077-e3f7-43a2-eb9f-c3bdb105da4d"
      },
      "execution_count": 28,
      "outputs": [
        {
          "output_type": "execute_result",
          "data": {
            "text/plain": [
              "torch.Size([1115394])"
            ]
          },
          "metadata": {},
          "execution_count": 28
        }
      ]
    },
    {
      "cell_type": "code",
      "source": [
        "def get_batches(data, split, batch_size, context_window, config=MASTER_CONFIG):\n",
        "    train = data[:int(.8 * len(data))]\n",
        "    val = data[int(.8 * len(data)): int(.9 * len(data))]\n",
        "    test = data[int(.9 * len(data)):]\n",
        "\n",
        "    batch_data = train\n",
        "    if split == 'val':\n",
        "        batch_data = val\n",
        "\n",
        "    if split == 'test':\n",
        "        batch_data = test\n",
        "\n",
        "    # pick random starting points\n",
        "    ix = torch.randint(0, batch_data.size(0) - context_window - 1, (batch_size,))\n",
        "    x = torch.stack([batch_data[i:i+context_window] for i in ix]).long()\n",
        "    y = torch.stack([batch_data[i+1:i+context_window+1] for i in ix]).long()\n",
        "    return x, y\n",
        "\n",
        "MASTER_CONFIG.update({\n",
        "    'batch_size': 8,\n",
        "    'context_window': 16\n",
        "})\n",
        "\n",
        "xs, ys = get_batches(dataset, 'train', MASTER_CONFIG['batch_size'], MASTER_CONFIG['context_window'])\n",
        "\n",
        "[(decode(xs[i].tolist()), decode(ys[i].tolist())) for i in range(len(xs))]"
      ],
      "metadata": {
        "colab": {
          "base_uri": "https://localhost:8080/"
        },
        "id": "jvU5kNJp4Mca",
        "outputId": "024c493b-fde6-4631-9188-06c31d45e9c5"
      },
      "execution_count": 29,
      "outputs": [
        {
          "output_type": "execute_result",
          "data": {
            "text/plain": [
              "[(',\\nThe saddest sp', '\\nThe saddest spe'),\n",
              " ('d, when he shall', ', when he shall '),\n",
              " ('ch a one as he, ', 'h a one as he, w'),\n",
              " ('th me, let not y', 'h me, let not yo'),\n",
              " ('hey seemed almos', 'ey seemed almost'),\n",
              " ('e\\nThe running of', '\\nThe running of '),\n",
              " ('\\nMake much of hi', 'Make much of him'),\n",
              " ('faces? Is there ', 'aces? Is there n')]"
            ]
          },
          "metadata": {},
          "execution_count": 29
        }
      ]
    },
    {
      "cell_type": "code",
      "source": [
        "@torch.no_grad()  # don't compute gradients for this function\n",
        "def evaluate_loss(model, config=MASTER_CONFIG):\n",
        "    out = {}\n",
        "    model.eval()\n",
        "    for split in [\"train\", \"val\"]:\n",
        "        losses = []\n",
        "        for _ in range(10):\n",
        "            xb, yb = get_batches(dataset, split, config['batch_size'], config['context_window'])\n",
        "            _, loss = model(xb, yb)\n",
        "            losses.append(loss.item())\n",
        "        out[split] = np.mean(losses)\n",
        "    model.train()\n",
        "    return out"
      ],
      "metadata": {
        "id": "hpgsMNFk4OZ7"
      },
      "execution_count": 30,
      "outputs": []
    },
    {
      "cell_type": "code",
      "source": [
        "class SimpleBrokenModel(nn.Module):\n",
        "    def __init__(self, config=MASTER_CONFIG):\n",
        "        super().__init__()\n",
        "        self.config = config\n",
        "\n",
        "        self.embedding = nn.Embedding(config['vocab_size'], config['d_model'])\n",
        "        self.linear = nn.Sequential(\n",
        "            nn.Linear(config['d_model'], config['d_model']),\n",
        "            nn.ReLU(),\n",
        "            nn.Linear(config['d_model'], config['vocab_size']),\n",
        "        )\n",
        "\n",
        "        print(\"model params:\", sum([m.numel() for m in self.parameters()]))\n",
        "\n",
        "    def forward(self, idx, targets=None):\n",
        "        x = self.embedding(idx)\n",
        "        a = self.linear(x)\n",
        "        logits = F.softmax(a, dim=-1)\n",
        "\n",
        "        if targets is not None:\n",
        "            loss = F.cross_entropy(logits.view(-1, self.config['vocab_size']), targets.view(-1))\n",
        "            return logits, loss\n",
        "\n",
        "        else:\n",
        "            return logits\n",
        "\n",
        "MASTER_CONFIG.update({\n",
        "    'd_model': 128,\n",
        "})\n",
        "model = SimpleBrokenModel(MASTER_CONFIG)\n",
        "xs, ys = get_batches(dataset, 'train', MASTER_CONFIG['batch_size'], MASTER_CONFIG['context_window'])\n",
        "\n",
        "logits, loss = model(xs, ys)"
      ],
      "metadata": {
        "colab": {
          "base_uri": "https://localhost:8080/"
        },
        "id": "hcK4JswTAIX4",
        "outputId": "2e47c24a-bca4-4f42-a20a-32929d731218"
      },
      "execution_count": 35,
      "outputs": [
        {
          "output_type": "stream",
          "name": "stdout",
          "text": [
            "model params: 33217\n"
          ]
        }
      ]
    },
    {
      "cell_type": "code",
      "source": [
        "MASTER_CONFIG.update({\n",
        "    'epochs': 1000,\n",
        "    'log_interval': 10,\n",
        "    'batch_size': 32,\n",
        "})\n",
        "model = SimpleBrokenModel(MASTER_CONFIG)\n",
        "\n",
        "optimizer = torch.optim.Adam(\n",
        "    model.parameters(),\n",
        ")\n",
        "\n",
        "def train(model, optimizer, scheduler=None, config=MASTER_CONFIG, print_logs=False):\n",
        "    losses = []\n",
        "    start_time = time.time()\n",
        "    for epoch in range(config['epochs']):\n",
        "        optimizer.zero_grad()\n",
        "\n",
        "        xs, ys = get_batches(dataset, 'train', config['batch_size'], config['context_window'])\n",
        "        logits, loss = model(xs, targets=ys)\n",
        "        loss.backward()\n",
        "        optimizer.step()\n",
        "\n",
        "        if scheduler:\n",
        "            scheduler.step()\n",
        "\n",
        "        if epoch % config['log_interval'] == 0:\n",
        "            batch_time = time.time() - start_time\n",
        "            x = evaluate_loss(model)\n",
        "            losses += [x]\n",
        "            if print_logs:\n",
        "                print(f\"Epoch {epoch} | val loss {x['val']:.3f} | Time {batch_time:.3f} | ETA in seconds {batch_time * (config['epochs'] - epoch)/config['log_interval'] :.3f}\")\n",
        "            start_time = time.time()\n",
        "\n",
        "            if scheduler:\n",
        "                print(\"lr: \", scheduler.get_lr())\n",
        "\n",
        "    print(\"validation loss: \", losses[-1]['val'])\n",
        "    return pd.DataFrame(losses).plot()\n",
        "\n",
        "train(model, optimizer)"
      ],
      "metadata": {
        "colab": {
          "base_uri": "https://localhost:8080/",
          "height": 482
        },
        "id": "rmaHMJipAK69",
        "outputId": "e5086f54-cf42-4dc4-cb3f-3a900fba4bd5"
      },
      "execution_count": 36,
      "outputs": [
        {
          "output_type": "stream",
          "name": "stdout",
          "text": [
            "model params: 33217\n",
            "validation loss:  3.9475199222564696\n"
          ]
        },
        {
          "output_type": "execute_result",
          "data": {
            "text/plain": [
              "<Axes: >"
            ]
          },
          "metadata": {},
          "execution_count": 36
        },
        {
          "output_type": "display_data",
          "data": {
            "text/plain": [
              "<Figure size 640x480 with 1 Axes>"
            ],
            "image/png": "[encoded data removed]"
          },
          "metadata": {}
        }
      ]
    },
    {
      "cell_type": "code",
      "source": [
        "class SimpleModel(nn.Module):\n",
        "    def __init__(self, config):\n",
        "        super().__init__()\n",
        "        self.config = config\n",
        "\n",
        "        self.embedding = nn.Embedding(config['vocab_size'], config['d_model'])\n",
        "        self.linear = nn.Sequential(\n",
        "            nn.Linear(config['d_model'], config['d_model']),\n",
        "            nn.ReLU(),\n",
        "            nn.Linear(config['d_model'], config['vocab_size']),\n",
        "        )\n",
        "\n",
        "        print(\"model params:\", sum([m.numel() for m in self.parameters()]))\n",
        "\n",
        "    def forward(self, idx, targets=None):\n",
        "        x = self.embedding(idx)\n",
        "        logits = self.linear(x)\n",
        "\n",
        "        if targets is not None:\n",
        "            loss = F.cross_entropy(logits.view(-1, self.config['vocab_size']), targets.view(-1))\n",
        "            return logits, loss\n",
        "\n",
        "        else:\n",
        "            return logits\n",
        "\n",
        "model = SimpleModel(MASTER_CONFIG)\n",
        "xs, ys = get_batches(dataset, 'train', MASTER_CONFIG['batch_size'], MASTER_CONFIG['context_window'])\n",
        "\n",
        "logits, loss = model(xs, ys)\n",
        "optimizer = torch.optim.Adam(model.parameters())\n",
        "train(model, optimizer)"
      ],
      "metadata": {
        "colab": {
          "base_uri": "https://localhost:8080/",
          "height": 482
        },
        "id": "rl9grjCcANRd",
        "outputId": "8110e1c2-8621-413c-8cd3-66f914833264"
      },
      "execution_count": 37,
      "outputs": [
        {
          "output_type": "stream",
          "name": "stdout",
          "text": [
            "model params: 33217\n",
            "validation loss:  2.510049915313721\n"
          ]
        },
        {
          "output_type": "execute_result",
          "data": {
            "text/plain": [
              "<Axes: >"
            ]
          },
          "metadata": {},
          "execution_count": 37
        },
        {
          "output_type": "display_data",
          "data": {
            "text/plain": [
              "<Figure size 640x480 with 1 Axes>"
            ],
            "image/png": "[encoded data removed]"
          },
          "metadata": {}
        }
      ]
    },
    {
      "cell_type": "code",
      "source": [
        "def generate(model, config=MASTER_CONFIG, max_new_tokens=30):\n",
        "    idx = torch.zeros(5, 1).long()\n",
        "    for _ in range(max_new_tokens):\n",
        "        # call the model\n",
        "        logits = model(idx[:, -config['context_window']:])\n",
        "        last_time_step_logits = logits[\n",
        "            :, -1, :\n",
        "        ]  # all the batches (1), last time step, all the logits\n",
        "        p = F.softmax(last_time_step_logits, dim=-1)  # softmax to get probabilities\n",
        "        idx_next = torch.multinomial(\n",
        "            p, num_samples=1\n",
        "        )  # sample from the distribution to get the next token\n",
        "        idx = torch.cat([idx, idx_next], dim=-1)  # append to the sequence\n",
        "    return [decode(x) for x in idx.tolist()]\n",
        "\n",
        "generate(model)"
      ],
      "metadata": {
        "colab": {
          "base_uri": "https://localhost:8080/"
        },
        "id": "N0XHWuBIAPGF",
        "outputId": "dcaed10e-8ab3-435f-81bd-a4381b3394de"
      },
      "execution_count": 38,
      "outputs": [
        {
          "output_type": "execute_result",
          "data": {
            "text/plain": [
              "['\\n\\n\\n\\n\\n\\nQor s\\nTENol gig ol ompare',\n",
              " '\\nFis couthovere mserfent,\\nINo o',\n",
              " '\\nENE: har, ryoon hyork,\\nBere\\nT:',\n",
              " '\\nT:\\nOLERDatome copeeus the,\\nBu ',\n",
              " '\\nCEO:\\nTwed nsp, p unouret trwin']"
            ]
          },
          "metadata": {},
          "execution_count": 38
        }
      ]
    },
    {
      "cell_type": "markdown",
      "source": [
        "Llama specifics\n",
        "Llama describes three architectural modifications to the original Transformer:\n",
        "\n",
        "1. RMSNorm for pre-normalization\n",
        "2. Rotary embeddings\n",
        "3. SwiGLU activation function"
      ],
      "metadata": {
        "id": "QSp6S1nQ44fG"
      }
    },
    {
      "cell_type": "code",
      "source": [
        "class RMSNorm(nn.Module):\n",
        "    def __init__(self, layer_shape, eps=1e-8, bias=False):\n",
        "        super(RMSNorm, self).__init__()\n",
        "        self.register_parameter(\"scale\", nn.Parameter(torch.ones(layer_shape)))\n",
        "\n",
        "    def forward(self, x):\n",
        "        \"\"\"\n",
        "        assumes shape is (batch, seq_len, d_model)\n",
        "        \"\"\"\n",
        "        # frob norm is not the same as RMS. RMS = 1/sqrt(N) * frob norm\n",
        "        ff_rms = torch.linalg.norm(x, dim=(1,2)) * x[0].numel() ** -.5\n",
        "        raw = x / ff_rms.unsqueeze(-1).unsqueeze(-1)\n",
        "        return self.scale[:x.shape[1], :].unsqueeze(0) * raw\n",
        "\n",
        "config = {\n",
        "    'batch_size': 5,\n",
        "    'context_window': 11,\n",
        "    'd_model': 13,\n",
        "}\n",
        "batch = torch.randn((config['batch_size'], config['context_window'], config['d_model']))\n",
        "m = RMSNorm((config['context_window'], config['d_model']))\n",
        "g = m(batch)\n",
        "print(g.shape)"
      ],
      "metadata": {
        "colab": {
          "base_uri": "https://localhost:8080/"
        },
        "id": "t-qfrPh247-w",
        "outputId": "2d7f882d-2b38-48c5-8f27-30d5478a3984"
      },
      "execution_count": 39,
      "outputs": [
        {
          "output_type": "stream",
          "name": "stdout",
          "text": [
            "torch.Size([5, 11, 13])\n"
          ]
        }
      ]
    },
    {
      "cell_type": "code",
      "source": [
        "def get_rotary_matrix(context_window, embedding_dim):\n",
        "    R = torch.zeros((context_window, embedding_dim, embedding_dim), requires_grad=False)\n",
        "    for position in range(context_window):\n",
        "        for i in range(embedding_dim//2):\n",
        "            theta = 10000. ** (-2.*(i - 1) / embedding_dim)\n",
        "            m_theta = position * theta\n",
        "            R[position, 2*i,2*i] = np.cos(m_theta)\n",
        "            R[position, 2*i,2*i+1] = - np.sin(m_theta)\n",
        "            R[position, 2*i+1,2*i] = np.sin(m_theta)\n",
        "            R[position, 2*i+1,2*i+1] = np.cos(m_theta)\n",
        "    return R\n"
      ],
      "metadata": {
        "id": "xtsi9YoS5ESd"
      },
      "execution_count": 43,
      "outputs": []
    },
    {
      "cell_type": "code",
      "source": [
        "config = {\n",
        "    'batch_size': 10,\n",
        "    'd_model': 512,\n",
        "    'n_heads': 8,\n",
        "    'context_window': 16,\n",
        "}\n",
        "\n",
        "class RoPEAttentionHead(nn.Module):\n",
        "    def __init__(self, config):\n",
        "        super().__init__()\n",
        "        self.config = config\n",
        "        self.w_q = nn.Linear(config['d_model'], config['d_model'], bias=False)\n",
        "        self.w_k = nn.Linear(config['d_model'], config['d_model'], bias=False)\n",
        "        self.w_v = nn.Linear(config['d_model'], config['d_model'], bias=False)\n",
        "\n",
        "        self.R = get_rotary_matrix(config['context_window'], config['d_model'])\n",
        "\n",
        "    def get_rotary_matrix(context_window, embedding_dim):\n",
        "        R = torch.zeros((context_window, embedding_dim, embedding_dim), requires_grad=False)\n",
        "        for position in range(context_window):\n",
        "            for i in range(embedding_dim//2):\n",
        "                theta = 10000. ** (-2.*(i - 1) / embedding_dim)\n",
        "                m_theta = position * theta\n",
        "                R[position, 2*i,2*i] = np.cos(m_theta)\n",
        "                R[position, 2*i,2*i+1] = - np.sin(m_theta)\n",
        "                R[position, 2*i+1,2*i] = np.sin(m_theta)\n",
        "                R[position, 2*i+1,2*i+1] = np.cos(m_theta)\n",
        "        return R\n",
        "\n",
        "    def forward(self, x, return_attn_weights=False):\n",
        "        b,m,d = x.shape\n",
        "\n",
        "        q = self.w_q(x)\n",
        "        k = self.w_k(x)\n",
        "        v = self.w_v(x)\n",
        "\n",
        "        q_rotated = (torch.bmm(q.transpose(0,1), self.R[:m])).transpose(0,1)\n",
        "        k_rotated = (torch.bmm(k.transpose(0,1), self.R[:m])).transpose(0,1)\n",
        "\n",
        "        activations = F.scaled_dot_product_attention(\n",
        "            q_rotated,k_rotated,v,dropout_p =.1\n",
        "        )\n",
        "\n",
        "        if return_attn_weights:\n",
        "            attn_weights = torch.bmm(q_rotated, k_rotated.transpose(1,2)) / np.sqrt(d)\n",
        "            attn_weights = F.softmax(attn_weights, dim=-1)\n",
        "            return activations, attn_weights\n",
        "        return activations\n",
        "\n",
        "layer = RoPEAttentionHead(config)\n",
        "batch = torch.randn((config['batch_size'], config['context_window'], config['d_model']))\n",
        "output, attn_weights = layer(batch, return_attn_weights=True)"
      ],
      "metadata": {
        "id": "NQkCUla55V7H"
      },
      "execution_count": 44,
      "outputs": []
    },
    {
      "cell_type": "code",
      "source": [
        "class RoPEMultiheadAttention(nn.Module):\n",
        "    def __init__(self, config):\n",
        "        super().__init__()\n",
        "        self.config = config\n",
        "        self.heads = nn.ModuleList([\n",
        "            RoPEAttentionHead(config) for _ in range(config['n_heads'])\n",
        "        ])\n",
        "        self.linear = nn.Linear(config['n_heads'] * config['d_model'], config['d_model'])\n",
        "        self.dropout = nn.Dropout(.1)\n",
        "\n",
        "    def forward(self, x):\n",
        "        heads = [h(x) for h in self.heads]\n",
        "        x = torch.cat(heads, dim=-1)\n",
        "        x = self.linear(x)\n",
        "        x = self.dropout(x)\n",
        "        return x\n",
        "\n",
        "MASTER_CONFIG.update({\n",
        "    'n_heads': 8,\n",
        "})\n",
        "layer = RoPEMultiheadAttention(MASTER_CONFIG)\n",
        "batch = torch.ones((MASTER_CONFIG['batch_size'], MASTER_CONFIG['context_window'], MASTER_CONFIG['d_model']))\n",
        "output = layer(batch)\n",
        "output.shape"
      ],
      "metadata": {
        "colab": {
          "base_uri": "https://localhost:8080/"
        },
        "id": "u_L5jqK75eVv",
        "outputId": "2c78ebf6-dda4-4544-ce06-e39f43f7807d"
      },
      "execution_count": 45,
      "outputs": [
        {
          "output_type": "execute_result",
          "data": {
            "text/plain": [
              "torch.Size([32, 16, 128])"
            ]
          },
          "metadata": {},
          "execution_count": 45
        }
      ]
    },
    {
      "cell_type": "code",
      "source": [
        "class RopeModel(nn.Module):\n",
        "    def __init__(self, config):\n",
        "        super().__init__()\n",
        "        self.config = config\n",
        "\n",
        "        self.embedding = nn.Embedding(config['vocab_size'], config['d_model'])\n",
        "        self.rms = RMSNorm((config['context_window'], config['d_model']))\n",
        "        self.rope_attention = RoPEMultiheadAttention(config)\n",
        "\n",
        "        self.linear = nn.Sequential(\n",
        "            nn.Linear(config['d_model'], config['d_model']),\n",
        "            nn.ReLU(),\n",
        "        )\n",
        "\n",
        "        self.last_linear = nn.Linear(config['d_model'], config['vocab_size'])\n",
        "\n",
        "        print(\"model params:\", sum([m.numel() for m in self.parameters()]))\n",
        "\n",
        "    def forward(self, idx, targets=None):\n",
        "        x = self.embedding(idx)\n",
        "\n",
        "        # one block of attention\n",
        "        x = self.rms(x) # rms pre-normalization\n",
        "        x = x + self.rope_attention(x)\n",
        "\n",
        "        x = self.rms(x) # rms pre-normalization\n",
        "        x = x + self.linear(x)\n",
        "\n",
        "        logits = self.last_linear(x)\n",
        "\n",
        "        if targets is not None:\n",
        "            loss = F.cross_entropy(logits.view(-1, self.config['vocab_size']), targets.view(-1))\n",
        "            return logits, loss\n",
        "\n",
        "        else:\n",
        "            return logits\n",
        "\n",
        "model = RopeModel(MASTER_CONFIG)\n",
        "xs, ys = get_batches(dataset, 'train', MASTER_CONFIG['batch_size'], MASTER_CONFIG['context_window'])\n",
        "\n",
        "logits, loss = model(xs, ys)\n",
        "optimizer = torch.optim.Adam(model.parameters())\n",
        "train(model, optimizer)"
      ],
      "metadata": {
        "colab": {
          "base_uri": "https://localhost:8080/",
          "height": 482
        },
        "id": "flGq11bkAgOX",
        "outputId": "ae57fbce-aebc-4c52-aa84-1623cfcd0cbd"
      },
      "execution_count": 46,
      "outputs": [
        {
          "output_type": "stream",
          "name": "stdout",
          "text": [
            "model params: 559681\n",
            "validation loss:  0.14829168766736983\n"
          ]
        },
        {
          "output_type": "execute_result",
          "data": {
            "text/plain": [
              "<Axes: >"
            ]
          },
          "metadata": {},
          "execution_count": 46
        },
        {
          "output_type": "display_data",
          "data": {
            "text/plain": [
              "<Figure size 640x480 with 1 Axes>"
            ],
            "image/png": "[encoded data removed]"
          },
          "metadata": {}
        }
      ]
    },
    {
      "cell_type": "code",
      "source": [
        "config = {\n",
        "    'batch_size': 10,\n",
        "    'd_model': 512,\n",
        "    'n_heads': 8,\n",
        "    'context_window': 16,\n",
        "}\n",
        "\n",
        "class RoPEMaskedAttentionHead(nn.Module):\n",
        "    def __init__(self, config):\n",
        "        super().__init__()\n",
        "        self.config = config\n",
        "        self.w_q = nn.Linear(config['d_model'], config['d_model'], bias=False)\n",
        "        self.w_k = nn.Linear(config['d_model'], config['d_model'], bias=False)\n",
        "        self.w_v = nn.Linear(config['d_model'], config['d_model'], bias=False)\n",
        "\n",
        "        self.R = get_rotary_matrix(config['context_window'], config['d_model'])\n",
        "\n",
        "    def get_rotary_matrix(context_window, embedding_dim):\n",
        "        R = torch.zeros((context_window, embedding_dim, embedding_dim), requires_grad=False)\n",
        "        for position in range(context_window):\n",
        "            for i in range(embedding_dim//2):\n",
        "                theta = 10000. ** (-2.*(i - 1) / embedding_dim)\n",
        "                m_theta = position * theta\n",
        "                R[position, 2*i,2*i] = np.cos(m_theta)\n",
        "                R[position, 2*i,2*i+1] = - np.sin(m_theta)\n",
        "                R[position, 2*i+1,2*i] = np.sin(m_theta)\n",
        "                R[position, 2*i+1,2*i+1] = np.cos(m_theta)\n",
        "        return R\n",
        "\n",
        "    def forward(self, x, return_attn_weights=False):\n",
        "        b,m,d = x.shape\n",
        "\n",
        "        q = self.w_q(x)\n",
        "        k = self.w_k(x)\n",
        "        v = self.w_v(x)\n",
        "\n",
        "        q_rotated = (torch.bmm(q.transpose(0,1), self.R[:m])).transpose(0,1)\n",
        "        k_rotated = (torch.bmm(k.transpose(0,1), self.R[:m])).transpose(0,1)\n",
        "\n",
        "        activations = F.scaled_dot_product_attention(\n",
        "            q_rotated,k_rotated,v,dropout_p =.1, is_causal=True\n",
        "        )\n",
        "\n",
        "        if return_attn_weights:\n",
        "            attn_mask = torch.tril(torch.ones((m,m)), diagonal=0)\n",
        "            attn_weights = torch.bmm(q_rotated, k_rotated.transpose(1,2)) / np.sqrt(d) + attn_mask\n",
        "            attn_weights = F.softmax(attn_weights, dim=-1)\n",
        "            return activations, attn_weights\n",
        "        return activations"
      ],
      "metadata": {
        "id": "4LSwF78SA3dC"
      },
      "execution_count": 48,
      "outputs": []
    },
    {
      "cell_type": "code",
      "source": [
        "class RoPEMaskedMultiheadAttention(nn.Module):\n",
        "    def __init__(self, config):\n",
        "        super().__init__()\n",
        "        self.config = config\n",
        "        self.heads = nn.ModuleList([\n",
        "            RoPEMaskedAttentionHead(config) for _ in range(config['n_heads'])\n",
        "        ])\n",
        "        self.linear = nn.Linear(config['n_heads'] * config['d_model'], config['d_model'])\n",
        "        self.dropout = nn.Dropout(.1)\n",
        "\n",
        "    def forward(self, x):\n",
        "        heads = [h(x) for h in self.heads]\n",
        "        x = torch.cat(heads, dim=-1)\n",
        "        x = self.linear(x)\n",
        "        x = self.dropout(x)\n",
        "        return x\n",
        "\n",
        "MASTER_CONFIG.update({\n",
        "    'n_heads': 8,\n",
        "})\n",
        "layer = RoPEMultiheadAttention(MASTER_CONFIG)\n",
        "batch = torch.ones((MASTER_CONFIG['batch_size'], MASTER_CONFIG['context_window'], MASTER_CONFIG['d_model']))\n",
        "output = layer(batch)\n",
        "output.shape"
      ],
      "metadata": {
        "colab": {
          "base_uri": "https://localhost:8080/"
        },
        "id": "a7XuRFNWAlq-",
        "outputId": "6fc863e2-1236-4860-d9c9-5f97a0daacf0"
      },
      "execution_count": 47,
      "outputs": [
        {
          "output_type": "execute_result",
          "data": {
            "text/plain": [
              "torch.Size([32, 16, 128])"
            ]
          },
          "metadata": {},
          "execution_count": 47
        }
      ]
    },
    {
      "cell_type": "code",
      "source": [
        "class SwiGLU(nn.Module):\n",
        "    \"\"\"\n",
        "    Swish-Gated Linear Unit\n",
        "    https://arxiv.org/pdf/2002.05202v1.pdf\n",
        "    \"\"\"\n",
        "    def __init__(self, size):\n",
        "        super().__init__()\n",
        "        self.config = config\n",
        "        self.linear_gate = nn.Linear(size, size)\n",
        "        self.linear = nn.Linear(size, size)\n",
        "        self.beta = torch.randn(1, requires_grad=True)\n",
        "\n",
        "        self.beta = nn.Parameter(torch.ones(1))\n",
        "        self.register_parameter(\"beta\", self.beta)\n",
        "\n",
        "    def forward(self, x):\n",
        "        swish_gate = self.linear_gate(x) * torch.sigmoid(self.beta * self.linear_gate(x))\n",
        "        out = swish_gate * self.linear(x)\n",
        "        return out"
      ],
      "metadata": {
        "id": "KMY9MjIUBDFZ"
      },
      "execution_count": 51,
      "outputs": []
    },
    {
      "cell_type": "code",
      "source": [
        "class RopeModel(nn.Module):\n",
        "    def __init__(self, config):\n",
        "        super().__init__()\n",
        "        self.config = config\n",
        "\n",
        "        self.embedding = nn.Embedding(config['vocab_size'], config['d_model'])\n",
        "        self.rms = RMSNorm((config['context_window'], config['d_model']))\n",
        "        self.rope_attention = RoPEMaskedMultiheadAttention(config)\n",
        "\n",
        "        self.linear = nn.Sequential(\n",
        "            nn.Linear(config['d_model'], config['d_model']),\n",
        "            SwiGLU(config['d_model']),\n",
        "        )\n",
        "\n",
        "        self.last_linear = nn.Linear(config['d_model'], config['vocab_size'])\n",
        "\n",
        "        print(\"model params:\", sum([m.numel() for m in self.parameters()]))\n",
        "\n",
        "    def forward(self, idx, targets=None):\n",
        "        x = self.embedding(idx)\n",
        "\n",
        "        # one block of attention\n",
        "        x = self.rms(x) # rms pre-normalization\n",
        "        x = x + self.rope_attention(x)\n",
        "\n",
        "        x = self.rms(x) # rms pre-normalization\n",
        "        x = x + self.linear(x)\n",
        "\n",
        "        logits = self.last_linear(x)\n",
        "\n",
        "        if targets is not None:\n",
        "            loss = F.cross_entropy(logits.view(-1, self.config['vocab_size']), targets.view(-1))\n",
        "            return logits, loss\n",
        "\n",
        "        else:\n",
        "            return logits\n",
        "\n",
        "model = RopeModel(MASTER_CONFIG)\n",
        "xs, ys = get_batches(dataset, 'train', MASTER_CONFIG['batch_size'], MASTER_CONFIG['context_window'])\n",
        "\n",
        "logits, loss = model(xs, ys)\n",
        "optimizer = torch.optim.Adam(model.parameters())\n",
        "train(model, optimizer)"
      ],
      "metadata": {
        "colab": {
          "base_uri": "https://localhost:8080/"
        },
        "id": "SVQmCuQxBHxx",
        "outputId": "7ffcd926-1bff-4d02-ebf1-131bec378af9"
      },
      "execution_count": null,
      "outputs": [
        {
          "output_type": "stream",
          "name": "stdout",
          "text": [
            "model params: 592706\n"
          ]
        }
      ]
    },
    {
      "cell_type": "code",
      "source": [
        "# add RMSNorm and residual conncection\n",
        "class LlamaBlock(nn.Module):\n",
        "    def __init__(self, config):\n",
        "        super().__init__()\n",
        "        self.config = config\n",
        "\n",
        "        self.rms = RMSNorm((config['context_window'], config['d_model']))\n",
        "\n",
        "        self.attention = RoPEMaskedMultiheadAttention(config)\n",
        "        self.feedforward = nn.Sequential(\n",
        "            nn.Linear(config['d_model'], config['d_model']),\n",
        "            SwiGLU(config['d_model']),\n",
        "        )\n",
        "\n",
        "    def forward(self, x):\n",
        "        x = self.rms(x) # rms pre-normalization\n",
        "        x = x + self.attention(x)\n",
        "\n",
        "        x = self.rms(x) # rms pre-normalization\n",
        "        x = x + self.feedforward(x)\n",
        "        return x"
      ],
      "metadata": {
        "id": "mN7xHaVuCSkv"
      },
      "execution_count": null,
      "outputs": []
    },
    {
      "cell_type": "code",
      "source": [
        "block = LlamaBlock(MASTER_CONFIG)\n",
        "block(torch.randn(MASTER_CONFIG['batch_size'], MASTER_CONFIG['context_window'], MASTER_CONFIG['d_model']));"
      ],
      "metadata": {
        "id": "83Wd9VWCCWSl"
      },
      "execution_count": null,
      "outputs": []
    },
    {
      "cell_type": "code",
      "source": [
        "MASTER_CONFIG.update({\n",
        "    'epochs': 10000,\n",
        "})"
      ],
      "metadata": {
        "id": "QH-vQRjLCcw0"
      },
      "execution_count": null,
      "outputs": []
    },
    {
      "cell_type": "code",
      "source": [
        "from collections import OrderedDict\n",
        "\n",
        "MASTER_CONFIG.update({\n",
        "    'n_layers': 4,\n",
        "})\n",
        "class Llama(nn.Module):\n",
        "    def __init__(self, config):\n",
        "        super().__init__()\n",
        "        self.config = config\n",
        "        self.embeddings = nn.Embedding(config['vocab_size'], config['d_model'])\n",
        "        self.llama_blocks = nn.Sequential(\n",
        "            OrderedDict([(f\"llama_{i}\", LlamaBlock(config)) for i in range(config['n_layers'])])\n",
        "        )\n",
        "\n",
        "        self.ffn = nn.Sequential(\n",
        "            nn.Linear(config['d_model'], config['d_model']),\n",
        "            SwiGLU(config['d_model']),\n",
        "            nn.Linear(config['d_model'], config['vocab_size']),\n",
        "        )\n",
        "\n",
        "        print(\"model params:\", sum([m.numel() for m in self.parameters()]))\n",
        "\n",
        "    def forward(self, idx, targets=None):\n",
        "        x = self.embeddings(idx)\n",
        "        x = self.llama_blocks(x)\n",
        "        logits = self.ffn(x)\n",
        "\n",
        "        if targets is None:\n",
        "            return logits\n",
        "\n",
        "        else:\n",
        "            loss = F.cross_entropy(logits.view(-1, self.config['vocab_size']), targets.view(-1))\n",
        "            return logits, loss\n",
        "\n",
        "llama = Llama(MASTER_CONFIG)\n",
        "optimizer = torch.optim.Adam(llama.parameters())\n",
        "train(llama, optimizer, config=MASTER_CONFIG)"
      ],
      "metadata": {
        "id": "RH2YMl2NCXyd"
      },
      "execution_count": null,
      "outputs": []
    },
    {
      "cell_type": "code",
      "source": [
        "train(llama, optimizer, config=MASTER_CONFIG)"
      ],
      "metadata": {
        "id": "g6pkVZR5Cfx8"
      },
      "execution_count": null,
      "outputs": []
    },
    {
      "cell_type": "code",
      "source": [
        "print(generate(llama, MASTER_CONFIG, 500)[0])"
      ],
      "metadata": {
        "id": "krJPCCpvChGv"
      },
      "execution_count": null,
      "outputs": []
    }
  ]
}